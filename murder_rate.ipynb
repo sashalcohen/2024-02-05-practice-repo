{
 "cells": [
  {
   "cell_type": "code",
   "execution_count": 1,
   "id": "8f4bd226",
   "metadata": {},
   "outputs": [],
   "source": [
    "### murders in each city\n",
    "\n",
    "chicago_murders = 762\n",
    "losAngeles_murders = 294\n",
    "nyc_murders = 334\n",
    "sanJose_murders = 47\n",
    "\n",
    "### population in each city\n",
    "\n",
    "chicago_pop = 2_705_000\n",
    "losAngeles_pop = 3_976_000\n",
    "nyc_pop = 8_538_000\n",
    "sanJose_pop = 1_025_000"
   ]
  },
  {
   "cell_type": "code",
   "execution_count": 5,
   "id": "49e807fc",
   "metadata": {},
   "outputs": [],
   "source": [
    "### rate of murder by city \n",
    "\n",
    "chicago_murders_per100k = \\\n",
    "(chicago_murders*100_000)/chicago_pop\n",
    "\n",
    "losAngeles_murders_per100k = \\\n",
    "(losAngeles_murders*100_000)/losAngeles_pop\n",
    "\n",
    "nyc_murders_per100k = \\\n",
    "(nyc_murders*100_000)/nyc_pop\n",
    "\n",
    "sanJose_murders_per100k = \\\n",
    "(sanJose_murders*100_000)/sanJose_pop\n"
   ]
  },
  {
   "cell_type": "code",
   "execution_count": 6,
   "id": "f8d6ec74",
   "metadata": {},
   "outputs": [
    {
     "name": "stdout",
     "output_type": "stream",
     "text": [
      "28.170055452865064\n",
      "7.394366197183099\n",
      "3.911923167018037\n",
      "4.585365853658536\n"
     ]
    }
   ],
   "source": [
    "print(chicago_murders_per100k)\n",
    "print(losAngeles_murders_per100k)\n",
    "print(nyc_murders_per100k)\n",
    "print(sanJose_murders_per100k)"
   ]
  },
  {
   "cell_type": "code",
   "execution_count": null,
   "id": "7fac8c07",
   "metadata": {},
   "outputs": [],
   "source": [
    "Print(f\"Chicago has a murder rate of {chicago_murders_per100k} per 100k while New York has a p\")"
   ]
  },
  {
   "cell_type": "code",
   "execution_count": null,
   "id": "6055b167",
   "metadata": {},
   "outputs": [],
   "source": []
  }
 ],
 "metadata": {
  "kernelspec": {
   "display_name": "Python 3 (ipykernel)",
   "language": "python",
   "name": "python3"
  },
  "language_info": {
   "codemirror_mode": {
    "name": "ipython",
    "version": 3
   },
   "file_extension": ".py",
   "mimetype": "text/x-python",
   "name": "python",
   "nbconvert_exporter": "python",
   "pygments_lexer": "ipython3",
   "version": "3.11.5"
  }
 },
 "nbformat": 4,
 "nbformat_minor": 5
}
